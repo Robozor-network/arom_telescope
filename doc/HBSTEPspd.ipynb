{
 "cells": [
  {
   "cell_type": "code",
   "execution_count": 16,
   "metadata": {},
   "outputs": [],
   "source": [
    "stepmode = 1/16\n",
    "revsteps = 2256680\n",
    "day = 86164.09053083 # Hvezdna rychlost - pocet s za 1 otoceni zeme\n",
    "day = 86400.002 # Slunecni rychlost - pocet s za 1 otoceni zeme\n",
    "day = 86164.09053083 # Mesicni rychlost - pocet s za 1 otoceni zeme"
   ]
  },
  {
   "cell_type": "code",
   "execution_count": 17,
   "metadata": {
    "scrolled": false
   },
   "outputs": [
    {
     "name": "stdout",
     "output_type": "stream",
     "text": [
      "kroku na 1 otoceni je 2256680\n",
      "1deg je 6268.555555555556 kroku.\n",
      "1\" je 1.7412654320987655 kroku.\n",
      "\n",
      "za 1 s je potreba otocit o 0.0041780746222951195 deg.\n",
      "za 1 min je potreba otocit o 0.25068447733770716 deg.\n",
      "za 1 hod je potreba otocit o 15.041068640262429 deg.\n",
      "\n",
      "Za 1 s je potreba 26.19049288511375 kroků.\n"
     ]
    }
   ],
   "source": [
    "print(\"kroku na 1 otoceni je {}\".format(revsteps))\n",
    "print(\"1deg je {} kroku.\".format(revsteps/360))\n",
    "print(\"1\\\" je {} kroku.\".format(revsteps/(360*60*60)))\n",
    "print(\"\")\n",
    "print(\"za 1 s je potreba otocit o {} deg.\".format(360/day))\n",
    "print(\"za 1 min je potreba otocit o {} deg.\".format(360/day*60))\n",
    "print(\"za 1 hod je potreba otocit o {} deg.\".format(360/day*60*60))\n",
    "print(\"\")\n",
    "print(\"Za 1 s je potreba {} kroků.\".format((revsteps/day)))\n"
   ]
  },
  {
   "cell_type": "code",
   "execution_count": null,
   "metadata": {},
   "outputs": [],
   "source": []
  }
 ],
 "metadata": {
  "kernelspec": {
   "display_name": "Python 3",
   "language": "python",
   "name": "python3"
  },
  "language_info": {
   "codemirror_mode": {
    "name": "ipython",
    "version": 3
   },
   "file_extension": ".py",
   "mimetype": "text/x-python",
   "name": "python",
   "nbconvert_exporter": "python",
   "pygments_lexer": "ipython3",
   "version": "3.6.5"
  }
 },
 "nbformat": 4,
 "nbformat_minor": 2
}
